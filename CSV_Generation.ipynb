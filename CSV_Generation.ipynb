{
 "cells": [
  {
   "cell_type": "code",
   "execution_count": 1,
   "id": "6043a3e6",
   "metadata": {},
   "outputs": [
    {
     "name": "stdout",
     "output_type": "stream",
     "text": [
      "Data from the table olist_order_customer_dataset has been imported, cleaned, and saved to olist_order_customer_dataset.csv\n",
      "Data from the table olist_order_dataset has been imported, cleaned, and saved to olist_order_dataset.csv\n",
      "Data from the table olist_order_reviews_dataset has been imported, cleaned, and saved to olist_order_reviews_dataset.csv\n",
      "Data from the table olist_order_payments_dataset has been imported, cleaned, and saved to olist_order_payments_dataset.csv\n",
      "Data from the table olist_order_items_dataset has been imported, cleaned, and saved to olist_order_items_dataset.csv\n",
      "Data from the table olist_products_dataset has been imported, cleaned, and saved to olist_products_dataset.csv\n",
      "Data from the table olist_sellers_dataset has been imported, cleaned, and saved to olist_sellers_dataset.csv\n",
      "Data from the table olist_geolocation_dataset has been imported, cleaned, and saved to olist_geolocation_dataset.csv\n",
      "Data from the table product_category_name_translation has been imported, cleaned, and saved to product_category_name_translation.csv\n"
     ]
    }
   ],
   "source": [
    "import sqlite3\n",
    "import csv\n",
    "import pandas as pd\n",
    "\n",
    "# SQLite database name\n",
    "db_name = \"olist.db\"\n",
    "\n",
    "# List of tables to import and clean\n",
    "table_names = [\n",
    "    \"olist_order_customer_dataset\",\n",
    "    \"olist_order_dataset\",\n",
    "    \"olist_order_reviews_dataset\",\n",
    "    \"olist_order_payments_dataset\",\n",
    "    \"olist_order_items_dataset\",\n",
    "    \"olist_products_dataset\",\n",
    "    \"olist_sellers_dataset\",\n",
    "    \"olist_geolocation_dataset\",\n",
    "    \"product_category_name_translation\"\n",
    "]\n",
    "\n",
    "# Open a connection to the SQLite database\n",
    "connection = sqlite3.connect(db_name)\n",
    "cursor = connection.cursor()\n",
    "\n",
    "# Function to identify and handle outliers\n",
    "def identify_outliers(data, threshold=3):\n",
    "    z_scores = pd.DataFrame((data - data.mean()) / data.std())\n",
    "    outliers = (z_scores.abs() > threshold).any(axis=1)\n",
    "    return data[~outliers]\n",
    "\n",
    "# Loop through the tables and export to separate CSV files\n",
    "for table_name in table_names:\n",
    "    # Initialize data with column headers from the table\n",
    "    cursor.execute(f\"SELECT * FROM {table_name}\")\n",
    "    data = cursor.fetchall()\n",
    "    column_names = [description[0] for description in cursor.description]\n",
    "\n",
    "    # Convert the data into a pandas DataFrame\n",
    "    df = pd.DataFrame(data, columns=column_names)\n",
    "\n",
    "    # 1. Identify NaN\n",
    "    df = df.dropna()\n",
    "\n",
    "    # 2. Identify Outliers\n",
    "    columns_to_check_for_outliers = [\"column1\", \"column2\"]  # Specify the actual column names to check for outliers\n",
    "    for column in columns_to_check_for_outliers:\n",
    "        if column in df.columns:\n",
    "            df[column] = identify_outliers(df[column])\n",
    "\n",
    "    # 3.. Identify Duplicate Data\n",
    "    df = df.drop_duplicates()\n",
    "\n",
    "    # Write data to a CSV file\n",
    "    csv_file_name = f\"{table_name}.csv\"\n",
    "    df.to_csv(csv_file_name, index=False, encoding=\"utf-8\")\n",
    "\n",
    "    print(f\"Data from the table {table_name} has been imported, cleaned, and saved to {csv_file_name}\")\n",
    "\n",
    "# Close the connection to the database\n",
    "connection.close()"
   ]
  },
  {
   "cell_type": "code",
   "execution_count": null,
   "id": "279c7598",
   "metadata": {},
   "outputs": [],
   "source": []
  }
 ],
 "metadata": {
  "kernelspec": {
   "display_name": "Python 3 (ipykernel)",
   "language": "python",
   "name": "python3"
  },
  "language_info": {
   "codemirror_mode": {
    "name": "ipython",
    "version": 3
   },
   "file_extension": ".py",
   "mimetype": "text/x-python",
   "name": "python",
   "nbconvert_exporter": "python",
   "pygments_lexer": "ipython3",
   "version": "3.10.9"
  }
 },
 "nbformat": 4,
 "nbformat_minor": 5
}
